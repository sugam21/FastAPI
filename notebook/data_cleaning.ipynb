{
 "cells": [
  {
   "cell_type": "code",
   "execution_count": 49,
   "metadata": {},
   "outputs": [],
   "source": [
    "import pandas as pd\n",
    "import numpy as np\n",
    "from pathlib import Path"
   ]
  },
  {
   "cell_type": "code",
   "execution_count": 50,
   "metadata": {},
   "outputs": [],
   "source": [
    "raw_data_path: Path = Path(\"__file__\").resolve().parents[1] / \"data\" / \"raw\" / \"Assignment1.xlsx\"\n",
    "clean_data_dir: Path = Path(\"__file__\").resolve().parents[1]/ \"data\" / \"cleaned\" "
   ]
  },
  {
   "cell_type": "markdown",
   "metadata": {},
   "source": [
    "## Accounts Table"
   ]
  },
  {
   "cell_type": "code",
   "execution_count": 51,
   "metadata": {},
   "outputs": [],
   "source": [
    "raw_account_df: pd.DataFrame = pd.read_excel(raw_data_path, sheet_name=\"Accounts\")"
   ]
  },
  {
   "cell_type": "markdown",
   "metadata": {},
   "source": [
    "Problem in `raw_account_df` table:\n",
    "- Name column includes `test` and `Test` characters which are unnecessary\n",
    "- Makeing First and Last Name Capetalized"
   ]
  },
  {
   "cell_type": "code",
   "execution_count": 52,
   "metadata": {},
   "outputs": [],
   "source": [
    "raw_account_df = raw_account_df.replace(to_replace=\"([Tt][Ee][Ss][Tt])+t*(ing)*[0-9]*\", value=\"\", regex=True)"
   ]
  },
  {
   "cell_type": "code",
   "execution_count": 53,
   "metadata": {},
   "outputs": [],
   "source": [
    "def clean_names(x:str) -> str|float:\n",
    "    \"\"\"Take each name and clean them.\n",
    "    Param:\n",
    "        x: str = Name of each account holder\n",
    "    Return:\n",
    "        str or NaN(float)\n",
    "    \"\"\"\n",
    "    name_list: list[str] = x.strip().split(\" \")\n",
    "    clean_names: str =  \" \".join([name.capitalize() for name in name_list])\n",
    "    if not clean_names: #if clean_names is empty\n",
    "        return np.nan\n",
    "    return clean_names\n",
    "\n",
    "\n",
    "    \n",
    "raw_account_df[\"Name\"] = raw_account_df[\"Name\"].map(clean_names)\n",
    "raw_account_df[\"State\"] = (\n",
    "    raw_account_df[\"State\"]\n",
    "    .map(lambda x: \"Maharashtra\" if x == \"MH\" else x))"
   ]
  },
  {
   "cell_type": "code",
   "execution_count": 54,
   "metadata": {},
   "outputs": [],
   "source": [
    "object_columns: list[str] = [\"AccountId\",\"Name\",\"City\",\"State\"]\n",
    "\n",
    "raw_account_df[object_columns] = raw_account_df[object_columns].fillna(\"Not Available\")\n",
    "raw_account_df[\"Pincode\"] = raw_account_df[\"Pincode\"].fillna(0)"
   ]
  },
  {
   "cell_type": "markdown",
   "metadata": {},
   "source": [
    "## Policies Table"
   ]
  },
  {
   "cell_type": "code",
   "execution_count": 55,
   "metadata": {},
   "outputs": [],
   "source": [
    "raw_policies_df: pd.DataFrame = pd.read_excel(raw_data_path, sheet_name=\"Policies\")"
   ]
  },
  {
   "cell_type": "markdown",
   "metadata": {},
   "source": [
    "There is one major problem with `raw_policies_df`.\n",
    "1. Policy Name contains a lot of `Test` string with it.\n",
    "2. It contains name of peoples in them which is out of scope for regex and requires NLP."
   ]
  },
  {
   "cell_type": "code",
   "execution_count": 56,
   "metadata": {},
   "outputs": [],
   "source": [
    "raw_policies_df = raw_policies_df.replace(to_replace=\"([Tt][Ee][Ss][Tt])+t*(ing)*[0-9]*\",\n",
    "                        value=\"\",\n",
    "                        regex=True)\n",
    "\n",
    "raw_policies_df[\"Policy Name\"] = raw_policies_df[\"Policy Name\"].map(lambda x: \" \".join(x.strip(\" \").split(\" \")))"
   ]
  },
  {
   "cell_type": "markdown",
   "metadata": {},
   "source": [
    "## Claims Table"
   ]
  },
  {
   "cell_type": "code",
   "execution_count": 57,
   "metadata": {},
   "outputs": [],
   "source": [
    "raw_claims_df: pd.DataFrame = pd.read_excel(raw_data_path, sheet_name=\"Claims\")"
   ]
  },
  {
   "cell_type": "markdown",
   "metadata": {},
   "source": [
    "There are 43 rows with `HAN` column as `NaN`. This means one of 2 things.\n",
    "1. It is data collection error and the policy have not been registered.\n",
    "2. They do not have any policy. \n",
    "\n",
    "We assume point number 2 and replace every cell with `NaN` values as Not Taken.\n",
    "\n",
    "As per `Nan` in `BillAmount` Column we will replace it with value `0`."
   ]
  },
  {
   "cell_type": "code",
   "execution_count": 58,
   "metadata": {},
   "outputs": [],
   "source": [
    "raw_claims_df[\"HAN\"] = raw_claims_df[\"HAN\"].fillna(\"Not Taken\")\n",
    "raw_claims_df[\"BillAmount\"] = raw_claims_df[\"BillAmount\"].fillna(0)"
   ]
  },
  {
   "cell_type": "markdown",
   "metadata": {},
   "source": [
    "## Saving CSV's\n",
    "Saving to a single xlsx file with 3 sheets"
   ]
  },
  {
   "cell_type": "code",
   "execution_count": 59,
   "metadata": {},
   "outputs": [],
   "source": [
    "from pandas import ExcelWriter\n",
    "with ExcelWriter(clean_data_dir / \"cleaned.xlsx\") as writer:\n",
    "    raw_account_df.to_excel(writer, sheet_name=\"Accounts\", index=False)\n",
    "    raw_policies_df.to_excel(writer, sheet_name=\"Policies\", index=False)\n",
    "    raw_claims_df.to_excel(writer, sheet_name=\"Claims\", index=False)"
   ]
  },
  {
   "cell_type": "code",
   "execution_count": 60,
   "metadata": {},
   "outputs": [],
   "source": [
    "# raw_account_df.to_csv(clean_data_dir / \"account_cleaned.csv\", index=False)\n",
    "# raw_policies_df.to_csv(clean_data_dir / \"policies_cleaned.csv\", index=False)\n",
    "# raw_claims_df.to_csv(clean_data_dir / \"claims_cleaned.csv\", index=False)"
   ]
  }
 ],
 "metadata": {
  "kernelspec": {
   "display_name": ".venv",
   "language": "python",
   "name": "python3"
  },
  "language_info": {
   "codemirror_mode": {
    "name": "ipython",
    "version": 3
   },
   "file_extension": ".py",
   "mimetype": "text/x-python",
   "name": "python",
   "nbconvert_exporter": "python",
   "pygments_lexer": "ipython3",
   "version": "3.10.11"
  }
 },
 "nbformat": 4,
 "nbformat_minor": 2
}
